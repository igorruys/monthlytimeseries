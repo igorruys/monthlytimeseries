{
 "cells": [
  {
   "cell_type": "code",
   "execution_count": 1,
   "id": "af5f3f64",
   "metadata": {},
   "outputs": [],
   "source": [
    "import pandas as pd\n",
    "import holidays\n",
    "import numpy as np\n",
    "import matplotlib.pyplot as plt\n",
    "import plotly.express as px\n",
    "\n",
    "from lightgbm import LGBMRegressor\n",
    "from sktime.forecasting.compose import make_reduction\n",
    "from sktime.forecasting.base import ForecastingHorizon\n",
    "\n",
    "from skforecast.recursive import ForecasterRecursive, ForecasterRecursiveMultiSeries\n",
    "\n",
    "from skforecast.preprocessing import reshape_series_long_to_dict\n",
    "\n",
    "from skforecast.model_selection import TimeSeriesFold, backtesting_forecaster_multiseries\n",
    "\n",
    "from sklearn.metrics import mean_absolute_error"
   ]
  },
  {
   "cell_type": "code",
   "execution_count": 2,
   "id": "85c7b501",
   "metadata": {},
   "outputs": [],
   "source": [
    "def date_range_uteis(inicio, fim):\n",
    "    inicio = pd.to_datetime(inicio).date()\n",
    "    fim    = pd.to_datetime(fim).date()\n",
    "    anos = range(inicio.year, fim.year + 1)\n",
    "\n",
    "    br = holidays.Brazil(years=anos)\n",
    "    feriados = pd.to_datetime(list(br.keys()))\n",
    "\n",
    "    cbd = pd.offsets.CustomBusinessDay(holidays=feriados)  # só seg-sex, exclui feriados\n",
    "    return pd.date_range(inicio, fim, freq=cbd)\n"
   ]
  },
  {
   "cell_type": "code",
   "execution_count": 3,
   "id": "3d3aaea5",
   "metadata": {},
   "outputs": [],
   "source": [
    "datas = date_range_uteis('2022-01-03', '2025-03-10')\n",
    "entradas = np.sin(2*np.pi*np.arange(len(datas))/21) + 1 + 0.5*np.random.random(len(datas))\n",
    "saidas = np.sin(2*np.pi*np.arange(len(datas))/21 + np.pi) + 1 + 0.5*np.random.random(len(datas))\n",
    "subpolos = ['1.1', '2.1']"
   ]
  },
  {
   "cell_type": "code",
   "execution_count": 4,
   "id": "82f6afab",
   "metadata": {},
   "outputs": [],
   "source": [
    "df1 = pd.DataFrame({'subpolo': len(datas)*['1.1'], 'entrada': entradas, 'saida': saidas, 'data': datas})\n",
    "df2 = pd.DataFrame({'subpolo': len(datas)*['2.1'], 'entrada': 2*entradas, 'saida': 2*saidas, 'data': datas})\n",
    "df = pd.concat([df1, df2]).set_index(['subpolo', 'data'])"
   ]
  },
  {
   "cell_type": "code",
   "execution_count": 5,
   "id": "d6b89904",
   "metadata": {},
   "outputs": [],
   "source": [
    "# datas_test = df.index.get_level_values('data').unique()\n",
    "br = holidays.Brazil(years=df.index.get_level_values('data').year.unique())\n",
    "feriados = pd.to_datetime(list(br.keys()))\n",
    "cbd = pd.offsets.CustomBusinessDay(holidays=feriados)\n",
    "# datas = pd.date_range(df.index.get_level_values('data').min(), df.index.get_level_values('data').max(), freq=cbd)"
   ]
  },
  {
   "cell_type": "code",
   "execution_count": 6,
   "id": "58066ab7",
   "metadata": {},
   "outputs": [],
   "source": [
    "df_dev = df[df.index.get_level_values('data').year < 2025][['entrada']]\n",
    "df_dev = (\n",
    "    df_dev.groupby(level=0, group_keys=True)\n",
    "    .apply(lambda g: g.droplevel(0).asfreq(cbd))\n",
    ")\n",
    "\n",
    "df_test  = df[df.index.get_level_values('data').year >= 2025][['entrada']]\n",
    "df_test = (\n",
    "    df_test.groupby(level=0, group_keys=True)\n",
    "    .apply(lambda g: g.droplevel(0).asfreq(cbd))\n",
    ")"
   ]
  },
  {
   "cell_type": "code",
   "execution_count": 7,
   "id": "dd4a0e17",
   "metadata": {},
   "outputs": [],
   "source": [
    "exog_dev = pd.DataFrame(index=df_dev.index)\n",
    "datas_dev = df_dev.index.get_level_values('data')\n",
    "exog_dev['dia'] = datas_dev.day\n",
    "exog_dev['mes'] = datas_dev.month\n",
    "exog_dev['dia_semana'] = datas_dev.weekday\n",
    "\n",
    "exog_test = pd.DataFrame(index=df_test.index)\n",
    "datas_test = df_test.index.get_level_values('data')\n",
    "exog_test['dia'] = datas_test.day\n",
    "exog_test['mes'] = datas_test.month\n",
    "exog_test['dia_semana'] = datas_test.weekday"
   ]
  },
  {
   "cell_type": "code",
   "execution_count": 8,
   "id": "61aa6631",
   "metadata": {},
   "outputs": [],
   "source": [
    "modelo = ForecasterRecursiveMultiSeries(\n",
    "    regressor = LGBMRegressor(verbose=-1),\n",
    "    lags      = 8,\n",
    "    encoding  = 'ordinal_category'\n",
    ")"
   ]
  },
  {
   "cell_type": "code",
   "execution_count": 15,
   "id": "42fadbee",
   "metadata": {},
   "outputs": [
    {
     "name": "stdout",
     "output_type": "stream",
     "text": [
      "Information of folds\n",
      "--------------------\n",
      "Number of observations used for initial training: 707\n",
      "Number of observations used for backtesting: 55\n",
      "    Number of folds: 2\n",
      "    Number skipped folds: 0 \n",
      "    Number of steps per fold: 22\n",
      "    Number of steps to exclude between last observed data (last window) and predictions (gap): 0\n",
      "    The last 1 fold(s) have been excluded because they were incomplete.\n",
      "\n",
      "Fold: 0\n",
      "    Training:   2022-01-03 00:00:00 -- 2024-10-10 00:00:00  (n=707)\n",
      "    Validation: 2024-10-11 00:00:00 -- 2024-11-11 00:00:00  (n=22)\n",
      "Fold: 1\n",
      "    Training:   2022-02-02 00:00:00 -- 2024-11-11 00:00:00  (n=707)\n",
      "    Validation: 2024-11-12 00:00:00 -- 2024-12-13 00:00:00  (n=22)\n",
      "\n"
     ]
    },
    {
     "data": {
      "text/plain": [
       "[[0, [0, 707], [699, 707], [707, 729], [707, 729], True],\n",
       " [1, [22, 729], [721, 729], [729, 751], [729, 751], True]]"
      ]
     },
     "execution_count": 15,
     "metadata": {},
     "output_type": "execute_result"
    }
   ],
   "source": [
    "cv = TimeSeriesFold(\n",
    "    steps=22,\n",
    "    window_size=8,\n",
    "    initial_train_size='2024-10-10',\n",
    "    refit=True,\n",
    "    allow_incomplete_fold=False,\n",
    "    gap=0\n",
    ")\n",
    "\n",
    "cv.split(df_dev.loc['1.1'])"
   ]
  },
  {
   "cell_type": "code",
   "execution_count": 16,
   "id": "aa9c06e2",
   "metadata": {},
   "outputs": [
    {
     "ename": "ValueError",
     "evalue": "`last_window` must have as many values as needed to generate the predictors. For this forecaster it is 8.",
     "output_type": "error",
     "traceback": [
      "\u001b[1;31m---------------------------------------------------------------------------\u001b[0m",
      "\u001b[1;31mValueError\u001b[0m                                Traceback (most recent call last)",
      "Cell \u001b[1;32mIn[16], line 1\u001b[0m\n\u001b[1;32m----> 1\u001b[0m multi_series_mae, predictions_ms \u001b[38;5;241m=\u001b[39m backtesting_forecaster_multiseries(\n\u001b[0;32m      2\u001b[0m                                        forecaster \u001b[38;5;241m=\u001b[39m modelo,\n\u001b[0;32m      3\u001b[0m                                        series     \u001b[38;5;241m=\u001b[39m df_dev,\n\u001b[0;32m      4\u001b[0m                                        exog       \u001b[38;5;241m=\u001b[39m exog_dev,\n\u001b[0;32m      5\u001b[0m                                        levels     \u001b[38;5;241m=\u001b[39m \u001b[38;5;28;01mNone\u001b[39;00m,\n\u001b[0;32m      6\u001b[0m                                        cv         \u001b[38;5;241m=\u001b[39m cv,\n\u001b[0;32m      7\u001b[0m                                        metric     \u001b[38;5;241m=\u001b[39m \u001b[38;5;124m'\u001b[39m\u001b[38;5;124mmean_absolute_error\u001b[39m\u001b[38;5;124m'\u001b[39m,\n\u001b[0;32m      8\u001b[0m                                        suppress_warnings\u001b[38;5;241m=\u001b[39m\u001b[38;5;28;01mTrue\u001b[39;00m,\n\u001b[0;32m      9\u001b[0m                                        show_progress\u001b[38;5;241m=\u001b[39m\u001b[38;5;28;01mFalse\u001b[39;00m\n\u001b[0;32m     10\u001b[0m                                    )\n",
      "File \u001b[1;32mc:\\Users\\igorr\\anaconda3\\Lib\\site-packages\\skforecast\\model_selection\\_validation.py:1329\u001b[0m, in \u001b[0;36mbacktesting_forecaster_multiseries\u001b[1;34m(forecaster, series, cv, metric, levels, add_aggregated_metric, exog, interval, interval_method, n_boot, use_in_sample_residuals, use_binned_residuals, random_state, return_predictors, n_jobs, verbose, show_progress, suppress_warnings)\u001b[0m\n\u001b[0;32m   1308\u001b[0m set_skforecast_warnings(suppress_warnings, action\u001b[38;5;241m=\u001b[39m\u001b[38;5;124m'\u001b[39m\u001b[38;5;124mdefault\u001b[39m\u001b[38;5;124m'\u001b[39m)\n\u001b[0;32m   1310\u001b[0m check_backtesting_input(\n\u001b[0;32m   1311\u001b[0m     forecaster              \u001b[38;5;241m=\u001b[39m forecaster,\n\u001b[0;32m   1312\u001b[0m     cv                      \u001b[38;5;241m=\u001b[39m cv,\n\u001b[1;32m   (...)\u001b[0m\n\u001b[0;32m   1326\u001b[0m     suppress_warnings       \u001b[38;5;241m=\u001b[39m suppress_warnings\n\u001b[0;32m   1327\u001b[0m )\n\u001b[1;32m-> 1329\u001b[0m metrics_levels, backtest_predictions \u001b[38;5;241m=\u001b[39m _backtesting_forecaster_multiseries(\n\u001b[0;32m   1330\u001b[0m     forecaster              \u001b[38;5;241m=\u001b[39m forecaster,\n\u001b[0;32m   1331\u001b[0m     series                  \u001b[38;5;241m=\u001b[39m series,\n\u001b[0;32m   1332\u001b[0m     cv                      \u001b[38;5;241m=\u001b[39m cv,\n\u001b[0;32m   1333\u001b[0m     levels                  \u001b[38;5;241m=\u001b[39m levels,\n\u001b[0;32m   1334\u001b[0m     metric                  \u001b[38;5;241m=\u001b[39m metric,\n\u001b[0;32m   1335\u001b[0m     add_aggregated_metric   \u001b[38;5;241m=\u001b[39m add_aggregated_metric,\n\u001b[0;32m   1336\u001b[0m     exog                    \u001b[38;5;241m=\u001b[39m exog,\n\u001b[0;32m   1337\u001b[0m     interval                \u001b[38;5;241m=\u001b[39m interval,\n\u001b[0;32m   1338\u001b[0m     interval_method         \u001b[38;5;241m=\u001b[39m interval_method,\n\u001b[0;32m   1339\u001b[0m     n_boot                  \u001b[38;5;241m=\u001b[39m n_boot,\n\u001b[0;32m   1340\u001b[0m     use_in_sample_residuals \u001b[38;5;241m=\u001b[39m use_in_sample_residuals,\n\u001b[0;32m   1341\u001b[0m     use_binned_residuals    \u001b[38;5;241m=\u001b[39m use_binned_residuals,\n\u001b[0;32m   1342\u001b[0m     random_state            \u001b[38;5;241m=\u001b[39m random_state,\n\u001b[0;32m   1343\u001b[0m     return_predictors       \u001b[38;5;241m=\u001b[39m return_predictors,\n\u001b[0;32m   1344\u001b[0m     n_jobs                  \u001b[38;5;241m=\u001b[39m n_jobs,\n\u001b[0;32m   1345\u001b[0m     verbose                 \u001b[38;5;241m=\u001b[39m verbose,\n\u001b[0;32m   1346\u001b[0m     show_progress           \u001b[38;5;241m=\u001b[39m show_progress,\n\u001b[0;32m   1347\u001b[0m     suppress_warnings       \u001b[38;5;241m=\u001b[39m suppress_warnings\n\u001b[0;32m   1348\u001b[0m )\n\u001b[0;32m   1350\u001b[0m \u001b[38;5;28;01mreturn\u001b[39;00m metrics_levels, backtest_predictions\n",
      "File \u001b[1;32mc:\\Users\\igorr\\anaconda3\\Lib\\site-packages\\skforecast\\model_selection\\_validation.py:1054\u001b[0m, in \u001b[0;36m_backtesting_forecaster_multiseries\u001b[1;34m(forecaster, series, cv, metric, levels, add_aggregated_metric, exog, interval, interval_method, n_boot, use_in_sample_residuals, use_binned_residuals, random_state, return_predictors, n_jobs, verbose, show_progress, suppress_warnings)\u001b[0m\n\u001b[0;32m   1038\u001b[0m     \u001b[38;5;28;01mreturn\u001b[39;00m pred, levels_predict\n\u001b[0;32m   1040\u001b[0m kwargs_fit_predict_forecaster \u001b[38;5;241m=\u001b[39m {\n\u001b[0;32m   1041\u001b[0m     \u001b[38;5;124m\"\u001b[39m\u001b[38;5;124mforecaster\u001b[39m\u001b[38;5;124m\"\u001b[39m: forecaster,\n\u001b[0;32m   1042\u001b[0m     \u001b[38;5;124m\"\u001b[39m\u001b[38;5;124mstore_in_sample_residuals\u001b[39m\u001b[38;5;124m\"\u001b[39m: store_in_sample_residuals,\n\u001b[1;32m   (...)\u001b[0m\n\u001b[0;32m   1052\u001b[0m     \u001b[38;5;124m\"\u001b[39m\u001b[38;5;124msuppress_warnings\u001b[39m\u001b[38;5;124m\"\u001b[39m: suppress_warnings\n\u001b[0;32m   1053\u001b[0m }\n\u001b[1;32m-> 1054\u001b[0m results \u001b[38;5;241m=\u001b[39m Parallel(n_jobs\u001b[38;5;241m=\u001b[39mn_jobs)(\n\u001b[0;32m   1055\u001b[0m     delayed(_fit_predict_forecaster)(\n\u001b[0;32m   1056\u001b[0m         data_fold\u001b[38;5;241m=\u001b[39mdata_fold, \u001b[38;5;241m*\u001b[39m\u001b[38;5;241m*\u001b[39mkwargs_fit_predict_forecaster\n\u001b[0;32m   1057\u001b[0m     )\n\u001b[0;32m   1058\u001b[0m     \u001b[38;5;28;01mfor\u001b[39;00m data_fold \u001b[38;5;129;01min\u001b[39;00m data_folds\n\u001b[0;32m   1059\u001b[0m )\n\u001b[0;32m   1061\u001b[0m backtest_predictions \u001b[38;5;241m=\u001b[39m [result[\u001b[38;5;241m0\u001b[39m] \u001b[38;5;28;01mfor\u001b[39;00m result \u001b[38;5;129;01min\u001b[39;00m results]\n\u001b[0;32m   1062\u001b[0m fold_labels \u001b[38;5;241m=\u001b[39m [\n\u001b[0;32m   1063\u001b[0m     np\u001b[38;5;241m.\u001b[39mrepeat(fold[\u001b[38;5;241m0\u001b[39m], backtest_predictions[i]\u001b[38;5;241m.\u001b[39mshape[\u001b[38;5;241m0\u001b[39m]) \u001b[38;5;28;01mfor\u001b[39;00m i, fold \u001b[38;5;129;01min\u001b[39;00m \u001b[38;5;28menumerate\u001b[39m(folds)\n\u001b[0;32m   1064\u001b[0m ]\n",
      "File \u001b[1;32mc:\\Users\\igorr\\anaconda3\\Lib\\site-packages\\joblib\\parallel.py:1088\u001b[0m, in \u001b[0;36mParallel.__call__\u001b[1;34m(self, iterable)\u001b[0m\n\u001b[0;32m   1085\u001b[0m \u001b[38;5;28;01mif\u001b[39;00m \u001b[38;5;28mself\u001b[39m\u001b[38;5;241m.\u001b[39mdispatch_one_batch(iterator):\n\u001b[0;32m   1086\u001b[0m     \u001b[38;5;28mself\u001b[39m\u001b[38;5;241m.\u001b[39m_iterating \u001b[38;5;241m=\u001b[39m \u001b[38;5;28mself\u001b[39m\u001b[38;5;241m.\u001b[39m_original_iterator \u001b[38;5;129;01mis\u001b[39;00m \u001b[38;5;129;01mnot\u001b[39;00m \u001b[38;5;28;01mNone\u001b[39;00m\n\u001b[1;32m-> 1088\u001b[0m \u001b[38;5;28;01mwhile\u001b[39;00m \u001b[38;5;28mself\u001b[39m\u001b[38;5;241m.\u001b[39mdispatch_one_batch(iterator):\n\u001b[0;32m   1089\u001b[0m     \u001b[38;5;28;01mpass\u001b[39;00m\n\u001b[0;32m   1091\u001b[0m \u001b[38;5;28;01mif\u001b[39;00m pre_dispatch \u001b[38;5;241m==\u001b[39m \u001b[38;5;124m\"\u001b[39m\u001b[38;5;124mall\u001b[39m\u001b[38;5;124m\"\u001b[39m \u001b[38;5;129;01mor\u001b[39;00m n_jobs \u001b[38;5;241m==\u001b[39m \u001b[38;5;241m1\u001b[39m:\n\u001b[0;32m   1092\u001b[0m     \u001b[38;5;66;03m# The iterable was consumed all at once by the above for loop.\u001b[39;00m\n\u001b[0;32m   1093\u001b[0m     \u001b[38;5;66;03m# No need to wait for async callbacks to trigger to\u001b[39;00m\n\u001b[0;32m   1094\u001b[0m     \u001b[38;5;66;03m# consumption.\u001b[39;00m\n",
      "File \u001b[1;32mc:\\Users\\igorr\\anaconda3\\Lib\\site-packages\\joblib\\parallel.py:901\u001b[0m, in \u001b[0;36mParallel.dispatch_one_batch\u001b[1;34m(self, iterator)\u001b[0m\n\u001b[0;32m    899\u001b[0m     \u001b[38;5;28;01mreturn\u001b[39;00m \u001b[38;5;28;01mFalse\u001b[39;00m\n\u001b[0;32m    900\u001b[0m \u001b[38;5;28;01melse\u001b[39;00m:\n\u001b[1;32m--> 901\u001b[0m     \u001b[38;5;28mself\u001b[39m\u001b[38;5;241m.\u001b[39m_dispatch(tasks)\n\u001b[0;32m    902\u001b[0m     \u001b[38;5;28;01mreturn\u001b[39;00m \u001b[38;5;28;01mTrue\u001b[39;00m\n",
      "File \u001b[1;32mc:\\Users\\igorr\\anaconda3\\Lib\\site-packages\\joblib\\parallel.py:819\u001b[0m, in \u001b[0;36mParallel._dispatch\u001b[1;34m(self, batch)\u001b[0m\n\u001b[0;32m    817\u001b[0m \u001b[38;5;28;01mwith\u001b[39;00m \u001b[38;5;28mself\u001b[39m\u001b[38;5;241m.\u001b[39m_lock:\n\u001b[0;32m    818\u001b[0m     job_idx \u001b[38;5;241m=\u001b[39m \u001b[38;5;28mlen\u001b[39m(\u001b[38;5;28mself\u001b[39m\u001b[38;5;241m.\u001b[39m_jobs)\n\u001b[1;32m--> 819\u001b[0m     job \u001b[38;5;241m=\u001b[39m \u001b[38;5;28mself\u001b[39m\u001b[38;5;241m.\u001b[39m_backend\u001b[38;5;241m.\u001b[39mapply_async(batch, callback\u001b[38;5;241m=\u001b[39mcb)\n\u001b[0;32m    820\u001b[0m     \u001b[38;5;66;03m# A job can complete so quickly than its callback is\u001b[39;00m\n\u001b[0;32m    821\u001b[0m     \u001b[38;5;66;03m# called before we get here, causing self._jobs to\u001b[39;00m\n\u001b[0;32m    822\u001b[0m     \u001b[38;5;66;03m# grow. To ensure correct results ordering, .insert is\u001b[39;00m\n\u001b[0;32m    823\u001b[0m     \u001b[38;5;66;03m# used (rather than .append) in the following line\u001b[39;00m\n\u001b[0;32m    824\u001b[0m     \u001b[38;5;28mself\u001b[39m\u001b[38;5;241m.\u001b[39m_jobs\u001b[38;5;241m.\u001b[39minsert(job_idx, job)\n",
      "File \u001b[1;32mc:\\Users\\igorr\\anaconda3\\Lib\\site-packages\\joblib\\_parallel_backends.py:208\u001b[0m, in \u001b[0;36mSequentialBackend.apply_async\u001b[1;34m(self, func, callback)\u001b[0m\n\u001b[0;32m    206\u001b[0m \u001b[38;5;28;01mdef\u001b[39;00m \u001b[38;5;21mapply_async\u001b[39m(\u001b[38;5;28mself\u001b[39m, func, callback\u001b[38;5;241m=\u001b[39m\u001b[38;5;28;01mNone\u001b[39;00m):\n\u001b[0;32m    207\u001b[0m \u001b[38;5;250m    \u001b[39m\u001b[38;5;124;03m\"\"\"Schedule a func to be run\"\"\"\u001b[39;00m\n\u001b[1;32m--> 208\u001b[0m     result \u001b[38;5;241m=\u001b[39m ImmediateResult(func)\n\u001b[0;32m    209\u001b[0m     \u001b[38;5;28;01mif\u001b[39;00m callback:\n\u001b[0;32m    210\u001b[0m         callback(result)\n",
      "File \u001b[1;32mc:\\Users\\igorr\\anaconda3\\Lib\\site-packages\\joblib\\_parallel_backends.py:597\u001b[0m, in \u001b[0;36mImmediateResult.__init__\u001b[1;34m(self, batch)\u001b[0m\n\u001b[0;32m    594\u001b[0m \u001b[38;5;28;01mdef\u001b[39;00m \u001b[38;5;21m__init__\u001b[39m(\u001b[38;5;28mself\u001b[39m, batch):\n\u001b[0;32m    595\u001b[0m     \u001b[38;5;66;03m# Don't delay the application, to avoid keeping the input\u001b[39;00m\n\u001b[0;32m    596\u001b[0m     \u001b[38;5;66;03m# arguments in memory\u001b[39;00m\n\u001b[1;32m--> 597\u001b[0m     \u001b[38;5;28mself\u001b[39m\u001b[38;5;241m.\u001b[39mresults \u001b[38;5;241m=\u001b[39m batch()\n",
      "File \u001b[1;32mc:\\Users\\igorr\\anaconda3\\Lib\\site-packages\\joblib\\parallel.py:288\u001b[0m, in \u001b[0;36mBatchedCalls.__call__\u001b[1;34m(self)\u001b[0m\n\u001b[0;32m    284\u001b[0m \u001b[38;5;28;01mdef\u001b[39;00m \u001b[38;5;21m__call__\u001b[39m(\u001b[38;5;28mself\u001b[39m):\n\u001b[0;32m    285\u001b[0m     \u001b[38;5;66;03m# Set the default nested backend to self._backend but do not set the\u001b[39;00m\n\u001b[0;32m    286\u001b[0m     \u001b[38;5;66;03m# change the default number of processes to -1\u001b[39;00m\n\u001b[0;32m    287\u001b[0m     \u001b[38;5;28;01mwith\u001b[39;00m parallel_backend(\u001b[38;5;28mself\u001b[39m\u001b[38;5;241m.\u001b[39m_backend, n_jobs\u001b[38;5;241m=\u001b[39m\u001b[38;5;28mself\u001b[39m\u001b[38;5;241m.\u001b[39m_n_jobs):\n\u001b[1;32m--> 288\u001b[0m         \u001b[38;5;28;01mreturn\u001b[39;00m [func(\u001b[38;5;241m*\u001b[39margs, \u001b[38;5;241m*\u001b[39m\u001b[38;5;241m*\u001b[39mkwargs)\n\u001b[0;32m    289\u001b[0m                 \u001b[38;5;28;01mfor\u001b[39;00m func, args, kwargs \u001b[38;5;129;01min\u001b[39;00m \u001b[38;5;28mself\u001b[39m\u001b[38;5;241m.\u001b[39mitems]\n",
      "File \u001b[1;32mc:\\Users\\igorr\\anaconda3\\Lib\\site-packages\\joblib\\parallel.py:288\u001b[0m, in \u001b[0;36m<listcomp>\u001b[1;34m(.0)\u001b[0m\n\u001b[0;32m    284\u001b[0m \u001b[38;5;28;01mdef\u001b[39;00m \u001b[38;5;21m__call__\u001b[39m(\u001b[38;5;28mself\u001b[39m):\n\u001b[0;32m    285\u001b[0m     \u001b[38;5;66;03m# Set the default nested backend to self._backend but do not set the\u001b[39;00m\n\u001b[0;32m    286\u001b[0m     \u001b[38;5;66;03m# change the default number of processes to -1\u001b[39;00m\n\u001b[0;32m    287\u001b[0m     \u001b[38;5;28;01mwith\u001b[39;00m parallel_backend(\u001b[38;5;28mself\u001b[39m\u001b[38;5;241m.\u001b[39m_backend, n_jobs\u001b[38;5;241m=\u001b[39m\u001b[38;5;28mself\u001b[39m\u001b[38;5;241m.\u001b[39m_n_jobs):\n\u001b[1;32m--> 288\u001b[0m         \u001b[38;5;28;01mreturn\u001b[39;00m [func(\u001b[38;5;241m*\u001b[39margs, \u001b[38;5;241m*\u001b[39m\u001b[38;5;241m*\u001b[39mkwargs)\n\u001b[0;32m    289\u001b[0m                 \u001b[38;5;28;01mfor\u001b[39;00m func, args, kwargs \u001b[38;5;129;01min\u001b[39;00m \u001b[38;5;28mself\u001b[39m\u001b[38;5;241m.\u001b[39mitems]\n",
      "File \u001b[1;32mc:\\Users\\igorr\\anaconda3\\Lib\\site-packages\\skforecast\\model_selection\\_validation.py:1005\u001b[0m, in \u001b[0;36m_backtesting_forecaster_multiseries.<locals>._fit_predict_forecaster\u001b[1;34m(data_fold, forecaster, store_in_sample_residuals, levels, gap, interval, interval_method, n_boot, use_in_sample_residuals, use_binned_residuals, random_state, return_predictors, suppress_warnings)\u001b[0m\n\u001b[0;32m   1002\u001b[0m \u001b[38;5;66;03m# NOTE: This is done after probabilistic predictions to avoid repeating \u001b[39;00m\n\u001b[0;32m   1003\u001b[0m \u001b[38;5;66;03m# the same checks.\u001b[39;00m\n\u001b[0;32m   1004\u001b[0m \u001b[38;5;28;01mif\u001b[39;00m interval \u001b[38;5;129;01mis\u001b[39;00m \u001b[38;5;28;01mNone\u001b[39;00m \u001b[38;5;129;01mor\u001b[39;00m interval_method \u001b[38;5;241m!=\u001b[39m \u001b[38;5;124m'\u001b[39m\u001b[38;5;124mconformal\u001b[39m\u001b[38;5;124m'\u001b[39m:\n\u001b[1;32m-> 1005\u001b[0m     pred \u001b[38;5;241m=\u001b[39m forecaster\u001b[38;5;241m.\u001b[39mpredict(\n\u001b[0;32m   1006\u001b[0m                steps             \u001b[38;5;241m=\u001b[39m steps, \n\u001b[0;32m   1007\u001b[0m                levels            \u001b[38;5;241m=\u001b[39m levels_predict, \n\u001b[0;32m   1008\u001b[0m                last_window       \u001b[38;5;241m=\u001b[39m last_window_series,\n\u001b[0;32m   1009\u001b[0m                exog              \u001b[38;5;241m=\u001b[39m next_window_exog,\n\u001b[0;32m   1010\u001b[0m                suppress_warnings \u001b[38;5;241m=\u001b[39m suppress_warnings,\n\u001b[0;32m   1011\u001b[0m                check_inputs      \u001b[38;5;241m=\u001b[39m \u001b[38;5;28;01mTrue\u001b[39;00m \u001b[38;5;28;01mif\u001b[39;00m interval \u001b[38;5;129;01mis\u001b[39;00m \u001b[38;5;28;01mNone\u001b[39;00m \u001b[38;5;28;01melse\u001b[39;00m \u001b[38;5;28;01mFalse\u001b[39;00m\n\u001b[0;32m   1012\u001b[0m            )\n\u001b[0;32m   1013\u001b[0m     preds\u001b[38;5;241m.\u001b[39minsert(\u001b[38;5;241m0\u001b[39m, pred)\n\u001b[0;32m   1015\u001b[0m \u001b[38;5;28;01mif\u001b[39;00m return_predictors:\n\u001b[0;32m   1016\u001b[0m     \u001b[38;5;66;03m# NOTE: ForecasterRNN is not allowed for return_predictors as it \u001b[39;00m\n\u001b[0;32m   1017\u001b[0m     \u001b[38;5;66;03m# returns two DataFrames, X_predict, exog_predict.\u001b[39;00m\n\u001b[0;32m   1018\u001b[0m     \u001b[38;5;66;03m# NOTE: Remove column 'level' as it already exists from predict()\u001b[39;00m\n",
      "File \u001b[1;32mc:\\Users\\igorr\\anaconda3\\Lib\\site-packages\\skforecast\\recursive\\_forecaster_recursive_multiseries.py:2595\u001b[0m, in \u001b[0;36mForecasterRecursiveMultiSeries.predict\u001b[1;34m(self, steps, levels, last_window, exog, suppress_warnings, check_inputs)\u001b[0m\n\u001b[0;32m   2551\u001b[0m \u001b[38;5;250m\u001b[39m\u001b[38;5;124;03m\"\"\"\u001b[39;00m\n\u001b[0;32m   2552\u001b[0m \u001b[38;5;124;03mPredict n steps ahead. It is an recursive process in which, each prediction,\u001b[39;00m\n\u001b[0;32m   2553\u001b[0m \u001b[38;5;124;03mis used as a predictor for the next step. Only levels whose last window\u001b[39;00m\n\u001b[1;32m   (...)\u001b[0m\n\u001b[0;32m   2585\u001b[0m \n\u001b[0;32m   2586\u001b[0m \u001b[38;5;124;03m\"\"\"\u001b[39;00m\n\u001b[0;32m   2588\u001b[0m set_skforecast_warnings(suppress_warnings, action\u001b[38;5;241m=\u001b[39m\u001b[38;5;124m'\u001b[39m\u001b[38;5;124mignore\u001b[39m\u001b[38;5;124m'\u001b[39m)\n\u001b[0;32m   2590\u001b[0m (\n\u001b[0;32m   2591\u001b[0m     last_window,\n\u001b[0;32m   2592\u001b[0m     exog_values_dict,\n\u001b[0;32m   2593\u001b[0m     levels,\n\u001b[0;32m   2594\u001b[0m     prediction_index\n\u001b[1;32m-> 2595\u001b[0m ) \u001b[38;5;241m=\u001b[39m \u001b[38;5;28mself\u001b[39m\u001b[38;5;241m.\u001b[39m_create_predict_inputs(\n\u001b[0;32m   2596\u001b[0m         steps        \u001b[38;5;241m=\u001b[39m steps,\n\u001b[0;32m   2597\u001b[0m         levels       \u001b[38;5;241m=\u001b[39m levels,\n\u001b[0;32m   2598\u001b[0m         last_window  \u001b[38;5;241m=\u001b[39m last_window,\n\u001b[0;32m   2599\u001b[0m         exog         \u001b[38;5;241m=\u001b[39m exog,\n\u001b[0;32m   2600\u001b[0m         check_inputs \u001b[38;5;241m=\u001b[39m check_inputs\n\u001b[0;32m   2601\u001b[0m     )\n\u001b[0;32m   2603\u001b[0m \u001b[38;5;28;01mwith\u001b[39;00m warnings\u001b[38;5;241m.\u001b[39mcatch_warnings():\n\u001b[0;32m   2604\u001b[0m     warnings\u001b[38;5;241m.\u001b[39mfilterwarnings(\n\u001b[0;32m   2605\u001b[0m         \u001b[38;5;124m\"\u001b[39m\u001b[38;5;124mignore\u001b[39m\u001b[38;5;124m\"\u001b[39m, \n\u001b[0;32m   2606\u001b[0m         message\u001b[38;5;241m=\u001b[39m\u001b[38;5;124m\"\u001b[39m\u001b[38;5;124mX does not have valid feature names\u001b[39m\u001b[38;5;124m\"\u001b[39m, \n\u001b[0;32m   2607\u001b[0m         category\u001b[38;5;241m=\u001b[39m\u001b[38;5;167;01mUserWarning\u001b[39;00m\n\u001b[0;32m   2608\u001b[0m     )\n",
      "File \u001b[1;32mc:\\Users\\igorr\\anaconda3\\Lib\\site-packages\\skforecast\\recursive\\_forecaster_recursive_multiseries.py:2100\u001b[0m, in \u001b[0;36mForecasterRecursiveMultiSeries._create_predict_inputs\u001b[1;34m(self, steps, levels, last_window, exog, predict_probabilistic, use_in_sample_residuals, use_binned_residuals, check_inputs)\u001b[0m\n\u001b[0;32m   2093\u001b[0m     exog \u001b[38;5;241m=\u001b[39m {\n\u001b[0;32m   2094\u001b[0m         series_id: exog\u001b[38;5;241m.\u001b[39mloc[series_id] \n\u001b[0;32m   2095\u001b[0m         \u001b[38;5;28;01mfor\u001b[39;00m series_id \u001b[38;5;129;01min\u001b[39;00m exog\u001b[38;5;241m.\u001b[39mindex\u001b[38;5;241m.\u001b[39mlevels[\u001b[38;5;241m0\u001b[39m]\n\u001b[0;32m   2096\u001b[0m         \u001b[38;5;28;01mif\u001b[39;00m series_id \u001b[38;5;129;01min\u001b[39;00m levels\n\u001b[0;32m   2097\u001b[0m     }\n\u001b[0;32m   2099\u001b[0m \u001b[38;5;28;01mif\u001b[39;00m check_inputs:\n\u001b[1;32m-> 2100\u001b[0m     check_predict_input(\n\u001b[0;32m   2101\u001b[0m         forecaster_name  \u001b[38;5;241m=\u001b[39m \u001b[38;5;28mtype\u001b[39m(\u001b[38;5;28mself\u001b[39m)\u001b[38;5;241m.\u001b[39m\u001b[38;5;18m__name__\u001b[39m,\n\u001b[0;32m   2102\u001b[0m         steps            \u001b[38;5;241m=\u001b[39m steps,\n\u001b[0;32m   2103\u001b[0m         is_fitted        \u001b[38;5;241m=\u001b[39m \u001b[38;5;28mself\u001b[39m\u001b[38;5;241m.\u001b[39mis_fitted,\n\u001b[0;32m   2104\u001b[0m         exog_in_         \u001b[38;5;241m=\u001b[39m \u001b[38;5;28mself\u001b[39m\u001b[38;5;241m.\u001b[39mexog_in_,\n\u001b[0;32m   2105\u001b[0m         index_type_      \u001b[38;5;241m=\u001b[39m \u001b[38;5;28mself\u001b[39m\u001b[38;5;241m.\u001b[39mindex_type_,\n\u001b[0;32m   2106\u001b[0m         index_freq_      \u001b[38;5;241m=\u001b[39m \u001b[38;5;28mself\u001b[39m\u001b[38;5;241m.\u001b[39mindex_freq_,\n\u001b[0;32m   2107\u001b[0m         window_size      \u001b[38;5;241m=\u001b[39m \u001b[38;5;28mself\u001b[39m\u001b[38;5;241m.\u001b[39mwindow_size,\n\u001b[0;32m   2108\u001b[0m         last_window      \u001b[38;5;241m=\u001b[39m last_window,\n\u001b[0;32m   2109\u001b[0m         exog             \u001b[38;5;241m=\u001b[39m exog,\n\u001b[0;32m   2110\u001b[0m         exog_names_in_   \u001b[38;5;241m=\u001b[39m \u001b[38;5;28mself\u001b[39m\u001b[38;5;241m.\u001b[39mexog_names_in_,\n\u001b[0;32m   2111\u001b[0m         interval         \u001b[38;5;241m=\u001b[39m \u001b[38;5;28;01mNone\u001b[39;00m,\n\u001b[0;32m   2112\u001b[0m         levels           \u001b[38;5;241m=\u001b[39m levels,\n\u001b[0;32m   2113\u001b[0m         series_names_in_ \u001b[38;5;241m=\u001b[39m \u001b[38;5;28mself\u001b[39m\u001b[38;5;241m.\u001b[39mseries_names_in_,\n\u001b[0;32m   2114\u001b[0m         encoding         \u001b[38;5;241m=\u001b[39m \u001b[38;5;28mself\u001b[39m\u001b[38;5;241m.\u001b[39mencoding\n\u001b[0;32m   2115\u001b[0m     )\n\u001b[0;32m   2117\u001b[0m     \u001b[38;5;28;01mif\u001b[39;00m predict_probabilistic:\n\u001b[0;32m   2118\u001b[0m         check_residuals_input(\n\u001b[0;32m   2119\u001b[0m             forecaster_name              \u001b[38;5;241m=\u001b[39m \u001b[38;5;28mtype\u001b[39m(\u001b[38;5;28mself\u001b[39m)\u001b[38;5;241m.\u001b[39m\u001b[38;5;18m__name__\u001b[39m,\n\u001b[0;32m   2120\u001b[0m             use_in_sample_residuals      \u001b[38;5;241m=\u001b[39m use_in_sample_residuals,\n\u001b[1;32m   (...)\u001b[0m\n\u001b[0;32m   2127\u001b[0m             encoding                     \u001b[38;5;241m=\u001b[39m \u001b[38;5;28mself\u001b[39m\u001b[38;5;241m.\u001b[39mencoding\n\u001b[0;32m   2128\u001b[0m         )\n",
      "File \u001b[1;32mc:\\Users\\igorr\\anaconda3\\Lib\\site-packages\\skforecast\\utils\\utils.py:983\u001b[0m, in \u001b[0;36mcheck_predict_input\u001b[1;34m(forecaster_name, steps, is_fitted, exog_in_, index_type_, index_freq_, window_size, last_window, last_window_exog, exog, exog_names_in_, interval, alpha, max_step, levels, levels_forecaster, series_names_in_, encoding)\u001b[0m\n\u001b[0;32m    981\u001b[0m \u001b[38;5;66;03m# Check last_window len, nulls and index (type and freq)\u001b[39;00m\n\u001b[0;32m    982\u001b[0m \u001b[38;5;28;01mif\u001b[39;00m \u001b[38;5;28mlen\u001b[39m(last_window) \u001b[38;5;241m<\u001b[39m window_size:\n\u001b[1;32m--> 983\u001b[0m     \u001b[38;5;28;01mraise\u001b[39;00m \u001b[38;5;167;01mValueError\u001b[39;00m(\n\u001b[0;32m    984\u001b[0m         \u001b[38;5;124mf\u001b[39m\u001b[38;5;124m\"\u001b[39m\u001b[38;5;124m`last_window` must have as many values as needed to \u001b[39m\u001b[38;5;124m\"\u001b[39m\n\u001b[0;32m    985\u001b[0m         \u001b[38;5;124mf\u001b[39m\u001b[38;5;124m\"\u001b[39m\u001b[38;5;124mgenerate the predictors. For this forecaster it is \u001b[39m\u001b[38;5;132;01m{\u001b[39;00mwindow_size\u001b[38;5;132;01m}\u001b[39;00m\u001b[38;5;124m.\u001b[39m\u001b[38;5;124m\"\u001b[39m\n\u001b[0;32m    986\u001b[0m     )\n\u001b[0;32m    987\u001b[0m \u001b[38;5;28;01mif\u001b[39;00m last_window\u001b[38;5;241m.\u001b[39misna()\u001b[38;5;241m.\u001b[39mto_numpy()\u001b[38;5;241m.\u001b[39many():\n\u001b[0;32m    988\u001b[0m     warnings\u001b[38;5;241m.\u001b[39mwarn(\n\u001b[0;32m    989\u001b[0m         \u001b[38;5;124m\"\u001b[39m\u001b[38;5;124m`last_window` has missing values. Most of machine learning models do \u001b[39m\u001b[38;5;124m\"\u001b[39m\n\u001b[0;32m    990\u001b[0m         \u001b[38;5;124m\"\u001b[39m\u001b[38;5;124mnot allow missing values. Prediction method may fail.\u001b[39m\u001b[38;5;124m\"\u001b[39m, \n\u001b[0;32m    991\u001b[0m         MissingValuesWarning\n\u001b[0;32m    992\u001b[0m     )\n",
      "\u001b[1;31mValueError\u001b[0m: `last_window` must have as many values as needed to generate the predictors. For this forecaster it is 8."
     ]
    }
   ],
   "source": [
    "multi_series_mae, predictions_ms = backtesting_forecaster_multiseries(\n",
    "                                       forecaster = modelo,\n",
    "                                       series     = df_dev,\n",
    "                                       exog       = exog_dev,\n",
    "                                       levels     = None,\n",
    "                                       cv         = cv,\n",
    "                                       metric     = 'mean_absolute_error',\n",
    "                                       suppress_warnings=True,\n",
    "                                       show_progress=False\n",
    "                                   )  "
   ]
  },
  {
   "cell_type": "code",
   "execution_count": null,
   "id": "2946008e",
   "metadata": {},
   "outputs": [],
   "source": [
    "import contextlib, io\n",
    "\n",
    "def backtest(df, modelo, cv, col_target):\n",
    "\n",
    "    # Considerando que a data está no level 1 do MultiIndex.\n",
    "    df_datas = df.index.get_level_values(1)\n",
    "\n",
    "    datas_unicas = df_datas.unique()\n",
    "    datas_unicas.freq = cbd\n",
    "\n",
    "    falso_stdout = io.StringIO()\n",
    "    with contextlib.redirect_stdout(falso_stdout):\n",
    "        split = cv.split(datas_unicas)\n",
    "\n",
    "    metricas = []\n",
    "    for i, (train_range, _, val_range, _, _) in enumerate(split):\n",
    "        datas_train = datas[train_range[0] : train_range[1]]\n",
    "        datas_val = datas[val_range[0] : val_range[1]]\n",
    "\n",
    "        train_ini_dt, train_end_dt = datas_train[0], datas_train[-1]\n",
    "        val_ini_dt, val_end_dt = datas_val[0], datas_val[-1]\n",
    "\n",
    "        train = df[(df_datas >= train_ini_dt) & (df_datas <= train_end_dt)]\n",
    "        val = df[(df_datas >= val_ini_dt) & (df_datas <= val_end_dt)]\n",
    "        \n",
    "        modelo.fit(train, suppress_warnings=True)\n",
    "        preds = modelo.predict(cv.steps)\n",
    "\n",
    "        levels = preds.level.unique()\n",
    "        for level in levels:\n",
    "            pred_level = preds.query(f\"level == '{level}'\")\n",
    "            real_level = val.loc[level]\n",
    "            df_merge = pd.merge(\n",
    "                real_level, \n",
    "                pred_level, \n",
    "                right_index=True, \n",
    "                left_index=True,\n",
    "                how='inner'\n",
    "            )\n",
    "\n",
    "            if len(pred_level) != len(df_merge) or len(real_level) != len(df_merge):\n",
    "                raise Exception()\n",
    "\n",
    "        metrica = mean_absolute_error(df_merge[col_target], df_merge['pred'])\n",
    "        metricas.append(metrica)\n",
    "\n",
    "    return metricas\n"
   ]
  },
  {
   "cell_type": "code",
   "execution_count": 11,
   "id": "33951f7b",
   "metadata": {},
   "outputs": [],
   "source": [
    "def objective(trial, df, exog, modelo, cv, col_target):\n",
    "    # 1. Sugerir hiperparâmetros\n",
    "    params = {\n",
    "        'learning_rate': trial.suggest_float(\"learning_rate\", 1e-4, 1e-1, log=True),\n",
    "        'max_depth': trial.suggest_int(\"max_depth\", 3, 12),\n",
    "        'n_estimators': trial.suggest_int(\"n_estimators\", 50, 500)\n",
    "    }\n",
    "\n",
    "    modelo.regressor.set_params(**params)\n",
    "\n",
    "    # 2. Treinar e avaliar modelo (exemplo com XGBoost)\n",
    "    metricas, _ = backtesting_forecaster_multiseries(\n",
    "                                       forecaster = modelo,\n",
    "                                       series     = df,\n",
    "                                       exog       = exog_dev,\n",
    "                                       levels     = None,\n",
    "                                       cv         = cv,\n",
    "                                       metric     = 'mean_absolute_error',\n",
    "                                       suppress_warnings=True,\n",
    "                                       show_progress=False\n",
    "                                   )\n",
    "    score = metricas.query(\"levels == 'average'\").iloc[0, 1]\n",
    "\n",
    "    # 3. Retornar o valor que queremos **minimizar ou maximizar**\n",
    "    return score"
   ]
  },
  {
   "cell_type": "code",
   "execution_count": 12,
   "id": "cc09bcfa",
   "metadata": {},
   "outputs": [
    {
     "name": "stderr",
     "output_type": "stream",
     "text": [
      "[I 2025-10-06 19:16:21,454] A new study created in memory with name: no-name-f66f858f-9840-4738-9128-148e71a2779b\n",
      "[I 2025-10-06 19:16:22,524] Trial 0 finished with value: 1.0561754237450096 and parameters: {'learning_rate': 0.0005040029229697033, 'max_depth': 10, 'n_estimators': 144}. Best is trial 0 with value: 1.0561754237450096.\n",
      "[I 2025-10-06 19:16:23,452] Trial 1 finished with value: 1.059746489834285 and parameters: {'learning_rate': 0.00016359976917392917, 'max_depth': 12, 'n_estimators': 123}. Best is trial 0 with value: 1.0561754237450096.\n",
      "[I 2025-10-06 19:16:24,495] Trial 2 finished with value: 1.056388360169164 and parameters: {'learning_rate': 0.0005272609616336775, 'max_depth': 12, 'n_estimators': 189}. Best is trial 0 with value: 1.0561754237450096.\n",
      "[I 2025-10-06 19:16:26,316] Trial 3 finished with value: 0.5643660028833335 and parameters: {'learning_rate': 0.0038173508007754925, 'max_depth': 12, 'n_estimators': 408}. Best is trial 3 with value: 0.5643660028833335.\n",
      "[I 2025-10-06 19:16:27,874] Trial 4 finished with value: 0.9468361426218246 and parameters: {'learning_rate': 0.002739572078834597, 'max_depth': 11, 'n_estimators': 357}. Best is trial 3 with value: 0.5643660028833335.\n",
      "[I 2025-10-06 19:16:28,999] Trial 5 finished with value: 0.3474935143775226 and parameters: {'learning_rate': 0.009779412819668033, 'max_depth': 10, 'n_estimators': 208}. Best is trial 5 with value: 0.3474935143775226.\n",
      "[I 2025-10-06 19:16:29,591] Trial 6 finished with value: 1.0603063639996453 and parameters: {'learning_rate': 0.00016660815319130632, 'max_depth': 6, 'n_estimators': 55}. Best is trial 5 with value: 0.3474935143775226.\n",
      "[I 2025-10-06 19:16:30,867] Trial 7 finished with value: 1.0581311001581155 and parameters: {'learning_rate': 0.00013696616241875862, 'max_depth': 11, 'n_estimators': 293}. Best is trial 5 with value: 0.3474935143775226.\n",
      "[I 2025-10-06 19:16:31,563] Trial 8 finished with value: 1.040657292374369 and parameters: {'learning_rate': 0.0016678899781930145, 'max_depth': 4, 'n_estimators': 433}. Best is trial 5 with value: 0.3474935143775226.\n",
      "[I 2025-10-06 19:16:32,588] Trial 9 finished with value: 0.9557306754377555 and parameters: {'learning_rate': 0.0026885290431000685, 'max_depth': 12, 'n_estimators': 338}. Best is trial 5 with value: 0.3474935143775226.\n",
      "[I 2025-10-06 19:16:33,288] Trial 10 finished with value: 0.2581112193330404 and parameters: {'learning_rate': 0.04822077902865539, 'max_depth': 8, 'n_estimators': 222}. Best is trial 10 with value: 0.2581112193330404.\n",
      "[I 2025-10-06 19:16:33,930] Trial 11 finished with value: 0.25528395954276806 and parameters: {'learning_rate': 0.05050389527601006, 'max_depth': 8, 'n_estimators': 217}. Best is trial 11 with value: 0.25528395954276806.\n",
      "[I 2025-10-06 19:16:34,563] Trial 12 finished with value: 0.2682294839695038 and parameters: {'learning_rate': 0.08960283794219924, 'max_depth': 8, 'n_estimators': 245}. Best is trial 11 with value: 0.25528395954276806.\n",
      "[I 2025-10-06 19:16:35,488] Trial 13 finished with value: 0.2681789370858073 and parameters: {'learning_rate': 0.07800405272633545, 'max_depth': 7, 'n_estimators': 496}. Best is trial 11 with value: 0.25528395954276806.\n",
      "[I 2025-10-06 19:16:36,305] Trial 14 finished with value: 0.2605992805317521 and parameters: {'learning_rate': 0.024453309503725557, 'max_depth': 8, 'n_estimators': 280}. Best is trial 11 with value: 0.25528395954276806.\n",
      "[I 2025-10-06 19:16:36,829] Trial 15 finished with value: 0.2946313456162565 and parameters: {'learning_rate': 0.026321602315996367, 'max_depth': 5, 'n_estimators': 159}. Best is trial 11 with value: 0.25528395954276806.\n",
      "[I 2025-10-06 19:16:37,323] Trial 16 finished with value: 0.23664538312705277 and parameters: {'learning_rate': 0.03257860505547256, 'max_depth': 9, 'n_estimators': 79}. Best is trial 16 with value: 0.23664538312705277.\n",
      "[I 2025-10-06 19:16:37,732] Trial 17 finished with value: 1.0320060671926865 and parameters: {'learning_rate': 0.010645592942495669, 'max_depth': 9, 'n_estimators': 51}. Best is trial 16 with value: 0.23664538312705277.\n",
      "[I 2025-10-06 19:16:38,238] Trial 18 finished with value: 0.8736699284800122 and parameters: {'learning_rate': 0.011388755818417326, 'max_depth': 6, 'n_estimators': 103}. Best is trial 16 with value: 0.23664538312705277.\n",
      "[I 2025-10-06 19:16:38,600] Trial 19 finished with value: 0.7113787513240967 and parameters: {'learning_rate': 0.025850672684916927, 'max_depth': 3, 'n_estimators': 97}. Best is trial 16 with value: 0.23664538312705277.\n",
      "[I 2025-10-06 19:16:39,465] Trial 20 finished with value: 0.2735976995523589 and parameters: {'learning_rate': 0.04491331284346053, 'max_depth': 9, 'n_estimators': 315}. Best is trial 16 with value: 0.23664538312705277.\n",
      "[I 2025-10-06 19:16:40,121] Trial 21 finished with value: 0.25017548726026384 and parameters: {'learning_rate': 0.04211289837699105, 'max_depth': 7, 'n_estimators': 225}. Best is trial 16 with value: 0.23664538312705277.\n",
      "[I 2025-10-06 19:16:40,697] Trial 22 finished with value: 0.2689628950649919 and parameters: {'learning_rate': 0.04864041460783784, 'max_depth': 7, 'n_estimators': 177}. Best is trial 16 with value: 0.23664538312705277.\n",
      "[I 2025-10-06 19:16:41,520] Trial 23 finished with value: 0.24433778591836205 and parameters: {'learning_rate': 0.017910167683292434, 'max_depth': 9, 'n_estimators': 247}. Best is trial 16 with value: 0.23664538312705277.\n",
      "[I 2025-10-06 19:16:42,372] Trial 24 finished with value: 0.6398711413872198 and parameters: {'learning_rate': 0.006033682596368255, 'max_depth': 9, 'n_estimators': 246}. Best is trial 16 with value: 0.23664538312705277.\n",
      "[I 2025-10-06 19:16:43,463] Trial 25 finished with value: 0.2589122029430489 and parameters: {'learning_rate': 0.018456173716213973, 'max_depth': 10, 'n_estimators': 378}. Best is trial 16 with value: 0.23664538312705277.\n",
      "[I 2025-10-06 19:16:44,288] Trial 26 finished with value: 0.26104673938523676 and parameters: {'learning_rate': 0.014345425639961235, 'max_depth': 6, 'n_estimators': 264}. Best is trial 16 with value: 0.23664538312705277.\n",
      "[I 2025-10-06 19:16:44,763] Trial 27 finished with value: 0.25352634152754094 and parameters: {'learning_rate': 0.032856698438732054, 'max_depth': 7, 'n_estimators': 84}. Best is trial 16 with value: 0.23664538312705277.\n",
      "[I 2025-10-06 19:16:45,371] Trial 28 finished with value: 0.9632942049020508 and parameters: {'learning_rate': 0.006283537424830321, 'max_depth': 9, 'n_estimators': 142}. Best is trial 16 with value: 0.23664538312705277.\n",
      "[I 2025-10-06 19:16:46,355] Trial 29 finished with value: 1.0431070006573733 and parameters: {'learning_rate': 0.001313880641545728, 'max_depth': 10, 'n_estimators': 307}. Best is trial 16 with value: 0.23664538312705277.\n",
      "[I 2025-10-06 19:16:46,821] Trial 30 finished with value: 0.30760843043985986 and parameters: {'learning_rate': 0.08525553688541394, 'max_depth': 5, 'n_estimators': 158}. Best is trial 16 with value: 0.23664538312705277.\n",
      "[I 2025-10-06 19:16:47,288] Trial 31 finished with value: 0.2491218693981605 and parameters: {'learning_rate': 0.03374686087630094, 'max_depth': 7, 'n_estimators': 84}. Best is trial 16 with value: 0.23664538312705277.\n",
      "[I 2025-10-06 19:16:47,838] Trial 32 finished with value: 0.29798079273433675 and parameters: {'learning_rate': 0.01770397092895932, 'max_depth': 7, 'n_estimators': 123}. Best is trial 16 with value: 0.23664538312705277.\n",
      "[I 2025-10-06 19:16:48,323] Trial 33 finished with value: 0.2424135895401473 and parameters: {'learning_rate': 0.034597362236556885, 'max_depth': 9, 'n_estimators': 71}. Best is trial 16 with value: 0.23664538312705277.\n",
      "[I 2025-10-06 19:16:48,805] Trial 34 finished with value: 1.0330736631375634 and parameters: {'learning_rate': 0.0063405286340035005, 'max_depth': 10, 'n_estimators': 82}. Best is trial 16 with value: 0.23664538312705277.\n",
      "[I 2025-10-06 19:16:49,332] Trial 35 finished with value: 0.25655403672062144 and parameters: {'learning_rate': 0.06481868008716107, 'max_depth': 11, 'n_estimators': 114}. Best is trial 16 with value: 0.23664538312705277.\n",
      "[I 2025-10-06 19:16:49,772] Trial 36 finished with value: 0.330324530796176 and parameters: {'learning_rate': 0.031811898666136144, 'max_depth': 9, 'n_estimators': 65}. Best is trial 16 with value: 0.23664538312705277.\n",
      "[I 2025-10-06 19:16:50,355] Trial 37 finished with value: 0.23523008099118672 and parameters: {'learning_rate': 0.01871609858199909, 'max_depth': 8, 'n_estimators': 131}. Best is trial 37 with value: 0.23523008099118672.\n",
      "[I 2025-10-06 19:16:50,971] Trial 38 finished with value: 0.2450897913675779 and parameters: {'learning_rate': 0.018869847290632853, 'max_depth': 11, 'n_estimators': 135}. Best is trial 37 with value: 0.23523008099118672.\n",
      "[I 2025-10-06 19:16:51,671] Trial 39 finished with value: 0.551375289932188 and parameters: {'learning_rate': 0.008346335294413606, 'max_depth': 9, 'n_estimators': 189}. Best is trial 37 with value: 0.23523008099118672.\n",
      "[I 2025-10-06 19:16:52,363] Trial 40 finished with value: 1.0564072262786968 and parameters: {'learning_rate': 0.0005141059109362149, 'max_depth': 10, 'n_estimators': 176}. Best is trial 37 with value: 0.23523008099118672.\n",
      "[I 2025-10-06 19:16:52,963] Trial 41 finished with value: 0.24997778219414793 and parameters: {'learning_rate': 0.017539210841266004, 'max_depth': 11, 'n_estimators': 132}. Best is trial 37 with value: 0.23523008099118672.\n",
      "[I 2025-10-06 19:16:53,530] Trial 42 finished with value: 1.0352954278674207 and parameters: {'learning_rate': 0.004232131935704709, 'max_depth': 8, 'n_estimators': 115}. Best is trial 37 with value: 0.23523008099118672.\n",
      "[I 2025-10-06 19:16:53,991] Trial 43 finished with value: 0.9586332564897511 and parameters: {'learning_rate': 0.012352078772121322, 'max_depth': 12, 'n_estimators': 75}. Best is trial 37 with value: 0.23523008099118672.\n",
      "[I 2025-10-06 19:16:54,605] Trial 44 finished with value: 0.24503591306141354 and parameters: {'learning_rate': 0.020234895278799733, 'max_depth': 11, 'n_estimators': 139}. Best is trial 37 with value: 0.23523008099118672.\n",
      "[I 2025-10-06 19:16:55,272] Trial 45 finished with value: 1.057593406475731 and parameters: {'learning_rate': 0.0003411598940630833, 'max_depth': 8, 'n_estimators': 152}. Best is trial 37 with value: 0.23523008099118672.\n",
      "[I 2025-10-06 19:16:55,763] Trial 46 finished with value: 0.251766829627308 and parameters: {'learning_rate': 0.06295280745485585, 'max_depth': 10, 'n_estimators': 104}. Best is trial 37 with value: 0.23523008099118672.\n",
      "[I 2025-10-06 19:16:56,482] Trial 47 finished with value: 0.5909262894036931 and parameters: {'learning_rate': 0.00791166275933735, 'max_depth': 9, 'n_estimators': 194}. Best is trial 37 with value: 0.23523008099118672.\n",
      "[I 2025-10-06 19:16:56,922] Trial 48 finished with value: 1.055968758576341 and parameters: {'learning_rate': 0.001771492231713949, 'max_depth': 10, 'n_estimators': 64}. Best is trial 37 with value: 0.23523008099118672.\n",
      "[I 2025-10-06 19:16:58,038] Trial 49 finished with value: 0.2657261139683101 and parameters: {'learning_rate': 0.020837782176651335, 'max_depth': 8, 'n_estimators': 473}. Best is trial 37 with value: 0.23523008099118672.\n"
     ]
    }
   ],
   "source": [
    "import optuna\n",
    "study = optuna.create_study(direction=\"minimize\")\n",
    "study.optimize(lambda trial: objective(trial, df_dev, exog_dev, modelo, cv, 'entrada'), n_trials=50)"
   ]
  },
  {
   "cell_type": "code",
   "execution_count": 53,
   "id": "13396955",
   "metadata": {},
   "outputs": [],
   "source": [
    "passos = 22\n",
    "modelo.regressor.set_params(**study.best_params)\n",
    "modelo.fit(df_dev, exog=exog_dev, suppress_warnings=True)\n",
    "preds = modelo.predict(passos, exog=exog_test)"
   ]
  },
  {
   "cell_type": "code",
   "execution_count": 54,
   "id": "e9e78843",
   "metadata": {},
   "outputs": [
    {
     "data": {
      "text/html": [
       "<div>\n",
       "<style scoped>\n",
       "    .dataframe tbody tr th:only-of-type {\n",
       "        vertical-align: middle;\n",
       "    }\n",
       "\n",
       "    .dataframe tbody tr th {\n",
       "        vertical-align: top;\n",
       "    }\n",
       "\n",
       "    .dataframe thead th {\n",
       "        text-align: right;\n",
       "    }\n",
       "</style>\n",
       "<table border=\"1\" class=\"dataframe\">\n",
       "  <thead>\n",
       "    <tr style=\"text-align: right;\">\n",
       "      <th></th>\n",
       "      <th>feature</th>\n",
       "      <th>importance</th>\n",
       "    </tr>\n",
       "  </thead>\n",
       "  <tbody>\n",
       "    <tr>\n",
       "      <th>0</th>\n",
       "      <td>lag_1</td>\n",
       "      <td>999</td>\n",
       "    </tr>\n",
       "    <tr>\n",
       "      <th>7</th>\n",
       "      <td>lag_8</td>\n",
       "      <td>827</td>\n",
       "    </tr>\n",
       "    <tr>\n",
       "      <th>1</th>\n",
       "      <td>lag_2</td>\n",
       "      <td>812</td>\n",
       "    </tr>\n",
       "    <tr>\n",
       "      <th>6</th>\n",
       "      <td>lag_7</td>\n",
       "      <td>763</td>\n",
       "    </tr>\n",
       "    <tr>\n",
       "      <th>3</th>\n",
       "      <td>lag_4</td>\n",
       "      <td>744</td>\n",
       "    </tr>\n",
       "    <tr>\n",
       "      <th>5</th>\n",
       "      <td>lag_6</td>\n",
       "      <td>730</td>\n",
       "    </tr>\n",
       "    <tr>\n",
       "      <th>4</th>\n",
       "      <td>lag_5</td>\n",
       "      <td>643</td>\n",
       "    </tr>\n",
       "    <tr>\n",
       "      <th>9</th>\n",
       "      <td>dia</td>\n",
       "      <td>543</td>\n",
       "    </tr>\n",
       "    <tr>\n",
       "      <th>2</th>\n",
       "      <td>lag_3</td>\n",
       "      <td>541</td>\n",
       "    </tr>\n",
       "    <tr>\n",
       "      <th>11</th>\n",
       "      <td>dia_semana</td>\n",
       "      <td>373</td>\n",
       "    </tr>\n",
       "    <tr>\n",
       "      <th>10</th>\n",
       "      <td>mes</td>\n",
       "      <td>363</td>\n",
       "    </tr>\n",
       "    <tr>\n",
       "      <th>8</th>\n",
       "      <td>_level_skforecast</td>\n",
       "      <td>346</td>\n",
       "    </tr>\n",
       "  </tbody>\n",
       "</table>\n",
       "</div>"
      ],
      "text/plain": [
       "              feature  importance\n",
       "0               lag_1         999\n",
       "7               lag_8         827\n",
       "1               lag_2         812\n",
       "6               lag_7         763\n",
       "3               lag_4         744\n",
       "5               lag_6         730\n",
       "4               lag_5         643\n",
       "9                 dia         543\n",
       "2               lag_3         541\n",
       "11         dia_semana         373\n",
       "10                mes         363\n",
       "8   _level_skforecast         346"
      ]
     },
     "execution_count": 54,
     "metadata": {},
     "output_type": "execute_result"
    }
   ],
   "source": [
    "modelo.get_feature_importances()"
   ]
  },
  {
   "cell_type": "code",
   "execution_count": 44,
   "id": "c87961f2",
   "metadata": {},
   "outputs": [
    {
     "data": {
      "text/plain": [
       "[<matplotlib.lines.Line2D at 0x1d40df53450>]"
      ]
     },
     "execution_count": 44,
     "metadata": {},
     "output_type": "execute_result"
    },
    {
     "data": {
      "image/png": "[encoded data removed]",
      "text/plain": [
       "<Figure size 1000x300 with 1 Axes>"
      ]
     },
     "metadata": {},
     "output_type": "display_data"
    }
   ],
   "source": [
    "level = '1.1'\n",
    "plt.figure(figsize=[10, 3])\n",
    "plt.plot(df_test.loc[level, 'entrada'])\n",
    "plt.plot(preds.query(f\"level == '{level}'\").pred)"
   ]
  },
  {
   "cell_type": "code",
   "execution_count": 45,
   "id": "f20557a9",
   "metadata": {},
   "outputs": [
    {
     "data": {
      "text/plain": [
       "0.11606587778355344"
      ]
     },
     "execution_count": 45,
     "metadata": {},
     "output_type": "execute_result"
    }
   ],
   "source": [
    "mean_absolute_error(df_test.loc[level, 'entrada'].iloc[:passos], preds.query(f\"level == '{level}'\").pred)"
   ]
  },
  {
   "cell_type": "code",
   "execution_count": null,
   "id": "fe0751e2",
   "metadata": {},
   "outputs": [],
   "source": []
  }
 ],
 "metadata": {
  "kernelspec": {
   "display_name": "base",
   "language": "python",
   "name": "python3"
  },
  "language_info": {
   "codemirror_mode": {
    "name": "ipython",
    "version": 3
   },
   "file_extension": ".py",
   "mimetype": "text/x-python",
   "name": "python",
   "nbconvert_exporter": "python",
   "pygments_lexer": "ipython3",
   "version": "3.11.7"
  }
 },
 "nbformat": 4,
 "nbformat_minor": 5
}
